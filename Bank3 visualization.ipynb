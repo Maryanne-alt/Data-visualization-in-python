{
 "cells": [
  {
   "cell_type": "code",
   "execution_count": 2,
   "id": "e57b48c9",
   "metadata": {},
   "outputs": [],
   "source": [
    "import pandas as pd\n",
    "import numpy as np\n",
    "import matplotlib.pyplot as plt"
   ]
  },
  {
   "cell_type": "code",
   "execution_count": 6,
   "id": "f1ac435f",
   "metadata": {},
   "outputs": [
    {
     "data": {
      "text/html": [
       "<div>\n",
       "<style scoped>\n",
       "    .dataframe tbody tr th:only-of-type {\n",
       "        vertical-align: middle;\n",
       "    }\n",
       "\n",
       "    .dataframe tbody tr th {\n",
       "        vertical-align: top;\n",
       "    }\n",
       "\n",
       "    .dataframe thead th {\n",
       "        text-align: right;\n",
       "    }\n",
       "</style>\n",
       "<table border=\"1\" class=\"dataframe\">\n",
       "  <thead>\n",
       "    <tr style=\"text-align: right;\">\n",
       "      <th></th>\n",
       "      <th>branch</th>\n",
       "      <th>customer</th>\n",
       "      <th>age</th>\n",
       "      <th>eduction_level</th>\n",
       "      <th>employ</th>\n",
       "      <th>address</th>\n",
       "      <th>income</th>\n",
       "      <th>debtinc</th>\n",
       "      <th>creddebt</th>\n",
       "      <th>othdebt</th>\n",
       "      <th>default</th>\n",
       "    </tr>\n",
       "  </thead>\n",
       "  <tbody>\n",
       "    <tr>\n",
       "      <th>0</th>\n",
       "      <td>3</td>\n",
       "      <td>10012</td>\n",
       "      <td>28</td>\n",
       "      <td>High school degree</td>\n",
       "      <td>7</td>\n",
       "      <td>2</td>\n",
       "      <td>44</td>\n",
       "      <td>17.7</td>\n",
       "      <td>2.99</td>\n",
       "      <td>4.80</td>\n",
       "      <td>No</td>\n",
       "    </tr>\n",
       "    <tr>\n",
       "      <th>1</th>\n",
       "      <td>3</td>\n",
       "      <td>10030</td>\n",
       "      <td>40</td>\n",
       "      <td>Did not complete high school</td>\n",
       "      <td>20</td>\n",
       "      <td>12</td>\n",
       "      <td>61</td>\n",
       "      <td>4.8</td>\n",
       "      <td>1.04</td>\n",
       "      <td>1.89</td>\n",
       "      <td>No</td>\n",
       "    </tr>\n",
       "    <tr>\n",
       "      <th>2</th>\n",
       "      <td>3</td>\n",
       "      <td>10071</td>\n",
       "      <td>35</td>\n",
       "      <td>Did not complete high school</td>\n",
       "      <td>2</td>\n",
       "      <td>9</td>\n",
       "      <td>38</td>\n",
       "      <td>10.9</td>\n",
       "      <td>1.46</td>\n",
       "      <td>2.68</td>\n",
       "      <td>Yes</td>\n",
       "    </tr>\n",
       "    <tr>\n",
       "      <th>3</th>\n",
       "      <td>3</td>\n",
       "      <td>10096</td>\n",
       "      <td>26</td>\n",
       "      <td>Some college</td>\n",
       "      <td>2</td>\n",
       "      <td>4</td>\n",
       "      <td>38</td>\n",
       "      <td>11.9</td>\n",
       "      <td>0.95</td>\n",
       "      <td>3.57</td>\n",
       "      <td>Yes</td>\n",
       "    </tr>\n",
       "    <tr>\n",
       "      <th>4</th>\n",
       "      <td>3</td>\n",
       "      <td>10128</td>\n",
       "      <td>25</td>\n",
       "      <td>Did not complete high school</td>\n",
       "      <td>4</td>\n",
       "      <td>2</td>\n",
       "      <td>30</td>\n",
       "      <td>14.4</td>\n",
       "      <td>1.05</td>\n",
       "      <td>3.27</td>\n",
       "      <td>No</td>\n",
       "    </tr>\n",
       "  </tbody>\n",
       "</table>\n",
       "</div>"
      ],
      "text/plain": [
       "   branch  customer  age                eduction_level  employ  address  \\\n",
       "0       3     10012   28            High school degree       7        2   \n",
       "1       3     10030   40  Did not complete high school      20       12   \n",
       "2       3     10071   35  Did not complete high school       2        9   \n",
       "3       3     10096   26                  Some college       2        4   \n",
       "4       3     10128   25  Did not complete high school       4        2   \n",
       "\n",
       "   income  debtinc  creddebt  othdebt default  \n",
       "0      44     17.7      2.99     4.80      No  \n",
       "1      61      4.8      1.04     1.89      No  \n",
       "2      38     10.9      1.46     2.68     Yes  \n",
       "3      38     11.9      0.95     3.57     Yes  \n",
       "4      30     14.4      1.05     3.27      No  "
      ]
     },
     "execution_count": 6,
     "metadata": {},
     "output_type": "execute_result"
    }
   ],
   "source": [
    "bank3 = pd.read_csv('bank3.csv')\n",
    "bank3.head()"
   ]
  },
  {
   "cell_type": "code",
   "execution_count": 8,
   "id": "a18e97e5",
   "metadata": {},
   "outputs": [
    {
     "name": "stdout",
     "output_type": "stream",
     "text": [
      "The dataset has{} rows 1118\n",
      "The dataset has {} columns 11\n"
     ]
    }
   ],
   "source": [
    "print ('The dataset has{} rows',format(bank3.shape[0]))\n",
    "print ('The dataset has {} columns', format(bank3.shape[1]))"
   ]
  },
  {
   "cell_type": "code",
   "execution_count": 12,
   "id": "7dfdec42",
   "metadata": {},
   "outputs": [
    {
     "data": {
      "text/plain": [
       "(1118, 11)"
      ]
     },
     "execution_count": 12,
     "metadata": {},
     "output_type": "execute_result"
    }
   ],
   "source": [
    "bank3.shape"
   ]
  },
  {
   "cell_type": "code",
   "execution_count": 13,
   "id": "57e3a4b3",
   "metadata": {},
   "outputs": [
    {
     "data": {
      "text/html": [
       "<div>\n",
       "<style scoped>\n",
       "    .dataframe tbody tr th:only-of-type {\n",
       "        vertical-align: middle;\n",
       "    }\n",
       "\n",
       "    .dataframe tbody tr th {\n",
       "        vertical-align: top;\n",
       "    }\n",
       "\n",
       "    .dataframe thead th {\n",
       "        text-align: right;\n",
       "    }\n",
       "</style>\n",
       "<table border=\"1\" class=\"dataframe\">\n",
       "  <thead>\n",
       "    <tr style=\"text-align: right;\">\n",
       "      <th></th>\n",
       "      <th>branch</th>\n",
       "      <th>customer</th>\n",
       "      <th>age</th>\n",
       "      <th>employ</th>\n",
       "      <th>address</th>\n",
       "      <th>income</th>\n",
       "      <th>debtinc</th>\n",
       "      <th>creddebt</th>\n",
       "      <th>othdebt</th>\n",
       "    </tr>\n",
       "  </thead>\n",
       "  <tbody>\n",
       "    <tr>\n",
       "      <th>count</th>\n",
       "      <td>1118.000000</td>\n",
       "      <td>1118.000000</td>\n",
       "      <td>1118.000000</td>\n",
       "      <td>1118.000000</td>\n",
       "      <td>1118.000000</td>\n",
       "      <td>1118.000000</td>\n",
       "      <td>1118.000000</td>\n",
       "      <td>1118.000000</td>\n",
       "      <td>1118.000000</td>\n",
       "    </tr>\n",
       "    <tr>\n",
       "      <th>mean</th>\n",
       "      <td>53.065295</td>\n",
       "      <td>262067.405188</td>\n",
       "      <td>29.568873</td>\n",
       "      <td>4.044723</td>\n",
       "      <td>4.254919</td>\n",
       "      <td>41.424866</td>\n",
       "      <td>8.407603</td>\n",
       "      <td>1.120769</td>\n",
       "      <td>2.295984</td>\n",
       "    </tr>\n",
       "    <tr>\n",
       "      <th>std</th>\n",
       "      <td>27.892880</td>\n",
       "      <td>139356.617282</td>\n",
       "      <td>8.683647</td>\n",
       "      <td>4.800381</td>\n",
       "      <td>3.773624</td>\n",
       "      <td>23.173921</td>\n",
       "      <td>4.789027</td>\n",
       "      <td>1.096386</td>\n",
       "      <td>1.938096</td>\n",
       "    </tr>\n",
       "    <tr>\n",
       "      <th>min</th>\n",
       "      <td>3.000000</td>\n",
       "      <td>10012.000000</td>\n",
       "      <td>18.000000</td>\n",
       "      <td>0.000000</td>\n",
       "      <td>0.000000</td>\n",
       "      <td>12.000000</td>\n",
       "      <td>0.000000</td>\n",
       "      <td>0.000000</td>\n",
       "      <td>0.000000</td>\n",
       "    </tr>\n",
       "    <tr>\n",
       "      <th>25%</th>\n",
       "      <td>20.000000</td>\n",
       "      <td>99389.750000</td>\n",
       "      <td>22.000000</td>\n",
       "      <td>0.000000</td>\n",
       "      <td>1.000000</td>\n",
       "      <td>25.000000</td>\n",
       "      <td>4.400000</td>\n",
       "      <td>0.350000</td>\n",
       "      <td>0.890000</td>\n",
       "    </tr>\n",
       "    <tr>\n",
       "      <th>50%</th>\n",
       "      <td>64.000000</td>\n",
       "      <td>316285.000000</td>\n",
       "      <td>28.000000</td>\n",
       "      <td>2.000000</td>\n",
       "      <td>3.000000</td>\n",
       "      <td>35.000000</td>\n",
       "      <td>7.800000</td>\n",
       "      <td>0.775000</td>\n",
       "      <td>1.735000</td>\n",
       "    </tr>\n",
       "    <tr>\n",
       "      <th>75%</th>\n",
       "      <td>75.000000</td>\n",
       "      <td>371422.250000</td>\n",
       "      <td>36.000000</td>\n",
       "      <td>6.000000</td>\n",
       "      <td>7.000000</td>\n",
       "      <td>50.750000</td>\n",
       "      <td>11.900000</td>\n",
       "      <td>1.510000</td>\n",
       "      <td>3.227500</td>\n",
       "    </tr>\n",
       "    <tr>\n",
       "      <th>max</th>\n",
       "      <td>91.000000</td>\n",
       "      <td>453777.000000</td>\n",
       "      <td>53.000000</td>\n",
       "      <td>20.000000</td>\n",
       "      <td>15.000000</td>\n",
       "      <td>153.000000</td>\n",
       "      <td>19.900000</td>\n",
       "      <td>6.360000</td>\n",
       "      <td>11.770000</td>\n",
       "    </tr>\n",
       "  </tbody>\n",
       "</table>\n",
       "</div>"
      ],
      "text/plain": [
       "            branch       customer          age       employ      address  \\\n",
       "count  1118.000000    1118.000000  1118.000000  1118.000000  1118.000000   \n",
       "mean     53.065295  262067.405188    29.568873     4.044723     4.254919   \n",
       "std      27.892880  139356.617282     8.683647     4.800381     3.773624   \n",
       "min       3.000000   10012.000000    18.000000     0.000000     0.000000   \n",
       "25%      20.000000   99389.750000    22.000000     0.000000     1.000000   \n",
       "50%      64.000000  316285.000000    28.000000     2.000000     3.000000   \n",
       "75%      75.000000  371422.250000    36.000000     6.000000     7.000000   \n",
       "max      91.000000  453777.000000    53.000000    20.000000    15.000000   \n",
       "\n",
       "            income      debtinc     creddebt      othdebt  \n",
       "count  1118.000000  1118.000000  1118.000000  1118.000000  \n",
       "mean     41.424866     8.407603     1.120769     2.295984  \n",
       "std      23.173921     4.789027     1.096386     1.938096  \n",
       "min      12.000000     0.000000     0.000000     0.000000  \n",
       "25%      25.000000     4.400000     0.350000     0.890000  \n",
       "50%      35.000000     7.800000     0.775000     1.735000  \n",
       "75%      50.750000    11.900000     1.510000     3.227500  \n",
       "max     153.000000    19.900000     6.360000    11.770000  "
      ]
     },
     "execution_count": 13,
     "metadata": {},
     "output_type": "execute_result"
    }
   ],
   "source": [
    "bank3.describe()"
   ]
  },
  {
   "cell_type": "code",
   "execution_count": 14,
   "id": "fb7d70d5",
   "metadata": {},
   "outputs": [
    {
     "data": {
      "text/html": [
       "<div>\n",
       "<style scoped>\n",
       "    .dataframe tbody tr th:only-of-type {\n",
       "        vertical-align: middle;\n",
       "    }\n",
       "\n",
       "    .dataframe tbody tr th {\n",
       "        vertical-align: top;\n",
       "    }\n",
       "\n",
       "    .dataframe thead th {\n",
       "        text-align: right;\n",
       "    }\n",
       "</style>\n",
       "<table border=\"1\" class=\"dataframe\">\n",
       "  <thead>\n",
       "    <tr style=\"text-align: right;\">\n",
       "      <th></th>\n",
       "      <th>branch</th>\n",
       "      <th>customer</th>\n",
       "      <th>age</th>\n",
       "      <th>employ</th>\n",
       "      <th>address</th>\n",
       "      <th>income</th>\n",
       "      <th>debtinc</th>\n",
       "      <th>creddebt</th>\n",
       "      <th>othdebt</th>\n",
       "    </tr>\n",
       "    <tr>\n",
       "      <th>eduction_level</th>\n",
       "      <th></th>\n",
       "      <th></th>\n",
       "      <th></th>\n",
       "      <th></th>\n",
       "      <th></th>\n",
       "      <th></th>\n",
       "      <th></th>\n",
       "      <th></th>\n",
       "      <th></th>\n",
       "    </tr>\n",
       "  </thead>\n",
       "  <tbody>\n",
       "    <tr>\n",
       "      <th>College degree</th>\n",
       "      <td>54.440678</td>\n",
       "      <td>268854.851695</td>\n",
       "      <td>30.669492</td>\n",
       "      <td>3.199153</td>\n",
       "      <td>4.707627</td>\n",
       "      <td>50.809322</td>\n",
       "      <td>8.339407</td>\n",
       "      <td>1.252246</td>\n",
       "      <td>2.794280</td>\n",
       "    </tr>\n",
       "    <tr>\n",
       "      <th>Did not complete high school</th>\n",
       "      <td>52.695906</td>\n",
       "      <td>260167.461988</td>\n",
       "      <td>31.456140</td>\n",
       "      <td>6.403509</td>\n",
       "      <td>5.046784</td>\n",
       "      <td>35.883041</td>\n",
       "      <td>8.695322</td>\n",
       "      <td>1.004503</td>\n",
       "      <td>2.137076</td>\n",
       "    </tr>\n",
       "    <tr>\n",
       "      <th>High school degree</th>\n",
       "      <td>51.894737</td>\n",
       "      <td>256182.343358</td>\n",
       "      <td>27.436090</td>\n",
       "      <td>3.756892</td>\n",
       "      <td>3.340852</td>\n",
       "      <td>36.060150</td>\n",
       "      <td>8.263659</td>\n",
       "      <td>1.024762</td>\n",
       "      <td>2.021905</td>\n",
       "    </tr>\n",
       "    <tr>\n",
       "      <th>Post-undergraduate degree</th>\n",
       "      <td>50.275862</td>\n",
       "      <td>248561.258621</td>\n",
       "      <td>34.310345</td>\n",
       "      <td>3.534483</td>\n",
       "      <td>6.672414</td>\n",
       "      <td>53.689655</td>\n",
       "      <td>8.312069</td>\n",
       "      <td>1.408276</td>\n",
       "      <td>2.488793</td>\n",
       "    </tr>\n",
       "    <tr>\n",
       "      <th>Some college</th>\n",
       "      <td>54.511811</td>\n",
       "      <td>269368.779528</td>\n",
       "      <td>29.543307</td>\n",
       "      <td>3.811024</td>\n",
       "      <td>4.185039</td>\n",
       "      <td>42.062992</td>\n",
       "      <td>8.525197</td>\n",
       "      <td>1.162047</td>\n",
       "      <td>2.326496</td>\n",
       "    </tr>\n",
       "  </tbody>\n",
       "</table>\n",
       "</div>"
      ],
      "text/plain": [
       "                                 branch       customer        age    employ  \\\n",
       "eduction_level                                                                \n",
       "College degree                54.440678  268854.851695  30.669492  3.199153   \n",
       "Did not complete high school  52.695906  260167.461988  31.456140  6.403509   \n",
       "High school degree            51.894737  256182.343358  27.436090  3.756892   \n",
       "Post-undergraduate degree     50.275862  248561.258621  34.310345  3.534483   \n",
       "Some college                  54.511811  269368.779528  29.543307  3.811024   \n",
       "\n",
       "                               address     income   debtinc  creddebt  \\\n",
       "eduction_level                                                          \n",
       "College degree                4.707627  50.809322  8.339407  1.252246   \n",
       "Did not complete high school  5.046784  35.883041  8.695322  1.004503   \n",
       "High school degree            3.340852  36.060150  8.263659  1.024762   \n",
       "Post-undergraduate degree     6.672414  53.689655  8.312069  1.408276   \n",
       "Some college                  4.185039  42.062992  8.525197  1.162047   \n",
       "\n",
       "                               othdebt  \n",
       "eduction_level                          \n",
       "College degree                2.794280  \n",
       "Did not complete high school  2.137076  \n",
       "High school degree            2.021905  \n",
       "Post-undergraduate degree     2.488793  \n",
       "Some college                  2.326496  "
      ]
     },
     "execution_count": 14,
     "metadata": {},
     "output_type": "execute_result"
    }
   ],
   "source": [
    "bank3.groupby('eduction_level').mean()"
   ]
  },
  {
   "cell_type": "markdown",
   "id": "dcaab281",
   "metadata": {},
   "source": [
    "visualization"
   ]
  },
  {
   "cell_type": "markdown",
   "id": "137bd8e9",
   "metadata": {},
   "source": [
    " # # #frequency distribution of categories"
   ]
  },
  {
   "cell_type": "code",
   "execution_count": 15,
   "id": "07d32fbc",
   "metadata": {},
   "outputs": [
    {
     "data": {
      "text/plain": [
       "High school degree              399\n",
       "Some college                    254\n",
       "College degree                  236\n",
       "Did not complete high school    171\n",
       "Post-undergraduate degree        58\n",
       "Name: eduction_level, dtype: int64"
      ]
     },
     "execution_count": 15,
     "metadata": {},
     "output_type": "execute_result"
    }
   ],
   "source": [
    "bank3.eduction_level.value_counts()"
   ]
  },
  {
   "cell_type": "code",
   "execution_count": 24,
   "id": "8a231400",
   "metadata": {},
   "outputs": [
    {
     "data": {
      "text/plain": [
       "High school degree              35.688730\n",
       "Some college                    22.719141\n",
       "College degree                  21.109123\n",
       "Did not complete high school    15.295170\n",
       "Post-undergraduate degree        5.187835\n",
       "Name: eduction_level, dtype: float64"
      ]
     },
     "execution_count": 24,
     "metadata": {},
     "output_type": "execute_result"
    }
   ],
   "source": [
    "bank3.eduction_level.value_counts(normalize=True)*100"
   ]
  },
  {
   "cell_type": "code",
   "execution_count": 31,
   "id": "e7edc37e",
   "metadata": {},
   "outputs": [
    {
     "data": {
      "text/plain": [
       "Text(0.5, 0, 'education level category')"
      ]
     },
     "execution_count": 31,
     "metadata": {},
     "output_type": "execute_result"
    },
    {
     "data": {
      "image/png": "[encoded data removed]",
      "text/plain": [
       "<Figure size 432x288 with 1 Axes>"
      ]
     },
     "metadata": {
      "needs_background": "light"
     },
     "output_type": "display_data"
    }
   ],
   "source": [
    "bank3.eduction_level.value_counts(normalize=True).plot.bar(figsize=(6,4))\n",
    "plt.title('Distribution of education level')\n",
    "plt.ylabel('percentage')\n",
    "plt.xlabel('education level category')\n"
   ]
  },
  {
   "cell_type": "code",
   "execution_count": 32,
   "id": "c7d309ed",
   "metadata": {},
   "outputs": [
    {
     "data": {
      "text/plain": [
       "Text(0, 0.5, 'frequency')"
      ]
     },
     "execution_count": 32,
     "metadata": {},
     "output_type": "execute_result"
    },
    {
     "data": {
      "image/png": "[encoded data removed]",
      "text/plain": [
       "<Figure size 432x288 with 1 Axes>"
      ]
     },
     "metadata": {
      "needs_background": "light"
     },
     "output_type": "display_data"
    }
   ],
   "source": [
    "bank3.eduction_level.value_counts().plot.bar(figsize=(6,4))\n",
    "plt.title('Distribution of education levels')\n",
    "plt.xlabel('education level category')\n",
    "plt.ylabel('frequency')"
   ]
  },
  {
   "cell_type": "markdown",
   "id": "9948112b",
   "metadata": {},
   "source": [
    "# # Default categorical variable"
   ]
  },
  {
   "cell_type": "code",
   "execution_count": 33,
   "id": "614911e2",
   "metadata": {},
   "outputs": [
    {
     "data": {
      "text/plain": [
       "No     710\n",
       "Yes    408\n",
       "Name: default, dtype: int64"
      ]
     },
     "execution_count": 33,
     "metadata": {},
     "output_type": "execute_result"
    }
   ],
   "source": [
    "bank3.default.value_counts()"
   ]
  },
  {
   "cell_type": "code",
   "execution_count": 34,
   "id": "8c1c0c1f",
   "metadata": {},
   "outputs": [
    {
     "data": {
      "text/plain": [
       "No     63.506261\n",
       "Yes    36.493739\n",
       "Name: default, dtype: float64"
      ]
     },
     "execution_count": 34,
     "metadata": {},
     "output_type": "execute_result"
    }
   ],
   "source": [
    "bank3.default.value_counts(normalize=True)*100"
   ]
  },
  {
   "cell_type": "code",
   "execution_count": 36,
   "id": "afaf8235",
   "metadata": {},
   "outputs": [
    {
     "data": {
      "text/plain": [
       "Text(0.5, 0, 'default')"
      ]
     },
     "execution_count": 36,
     "metadata": {},
     "output_type": "execute_result"
    },
    {
     "data": {
      "image/png": "[encoded data removed]",
      "text/plain": [
       "<Figure size 432x288 with 1 Axes>"
      ]
     },
     "metadata": {
      "needs_background": "light"
     },
     "output_type": "display_data"
    }
   ],
   "source": [
    "bank3.default.value_counts(normalize=True).plot.bar(figsize=(6,4))\n",
    "plt.title('Distribution of default category')\n",
    "plt.ylabel('percentage')\n",
    "plt.xlabel('default')\n"
   ]
  },
  {
   "cell_type": "code",
   "execution_count": 37,
   "id": "3269a1d3",
   "metadata": {},
   "outputs": [
    {
     "data": {
      "text/plain": [
       "Text(0, 0.5, 'frequency')"
      ]
     },
     "execution_count": 37,
     "metadata": {},
     "output_type": "execute_result"
    },
    {
     "data": {
      "image/png": "[encoded data removed]",
      "text/plain": [
       "<Figure size 432x288 with 1 Axes>"
      ]
     },
     "metadata": {
      "needs_background": "light"
     },
     "output_type": "display_data"
    }
   ],
   "source": [
    "bank3.default.value_counts().plot.bar(figsize=(6,4))\n",
    "plt.title('Distribution of default category')\n",
    "plt.xlabel('default category')\n",
    "plt.ylabel('frequency')"
   ]
  },
  {
   "cell_type": "markdown",
   "id": "5e319c46",
   "metadata": {},
   "source": [
    "comparative bar graph"
   ]
  },
  {
   "cell_type": "markdown",
   "id": "51f6b9d0",
   "metadata": {},
   "source": [
    "###contigency table"
   ]
  },
  {
   "cell_type": "code",
   "execution_count": 41,
   "id": "e2249c44",
   "metadata": {},
   "outputs": [
    {
     "data": {
      "text/html": [
       "<div>\n",
       "<style scoped>\n",
       "    .dataframe tbody tr th:only-of-type {\n",
       "        vertical-align: middle;\n",
       "    }\n",
       "\n",
       "    .dataframe tbody tr th {\n",
       "        vertical-align: top;\n",
       "    }\n",
       "\n",
       "    .dataframe thead th {\n",
       "        text-align: right;\n",
       "    }\n",
       "</style>\n",
       "<table border=\"1\" class=\"dataframe\">\n",
       "  <thead>\n",
       "    <tr style=\"text-align: right;\">\n",
       "      <th>default</th>\n",
       "      <th>No</th>\n",
       "      <th>Yes</th>\n",
       "    </tr>\n",
       "    <tr>\n",
       "      <th>eduction_level</th>\n",
       "      <th></th>\n",
       "      <th></th>\n",
       "    </tr>\n",
       "  </thead>\n",
       "  <tbody>\n",
       "    <tr>\n",
       "      <th>College degree</th>\n",
       "      <td>135</td>\n",
       "      <td>101</td>\n",
       "    </tr>\n",
       "    <tr>\n",
       "      <th>Did not complete high school</th>\n",
       "      <td>123</td>\n",
       "      <td>48</td>\n",
       "    </tr>\n",
       "    <tr>\n",
       "      <th>High school degree</th>\n",
       "      <td>245</td>\n",
       "      <td>154</td>\n",
       "    </tr>\n",
       "    <tr>\n",
       "      <th>Post-undergraduate degree</th>\n",
       "      <td>40</td>\n",
       "      <td>18</td>\n",
       "    </tr>\n",
       "    <tr>\n",
       "      <th>Some college</th>\n",
       "      <td>167</td>\n",
       "      <td>87</td>\n",
       "    </tr>\n",
       "  </tbody>\n",
       "</table>\n",
       "</div>"
      ],
      "text/plain": [
       "default                        No  Yes\n",
       "eduction_level                        \n",
       "College degree                135  101\n",
       "Did not complete high school  123   48\n",
       "High school degree            245  154\n",
       "Post-undergraduate degree      40   18\n",
       "Some college                  167   87"
      ]
     },
     "execution_count": 41,
     "metadata": {},
     "output_type": "execute_result"
    }
   ],
   "source": [
    "crosstab_df = pd.crosstab(bank3['eduction_level'],bank3['default'])\n",
    "crosstab_df"
   ]
  },
  {
   "cell_type": "code",
   "execution_count": null,
   "id": "67d2a4f5",
   "metadata": {},
   "outputs": [],
   "source": []
  }
 ],
 "metadata": {
  "kernelspec": {
   "display_name": "Python 3",
   "language": "python",
   "name": "python3"
  },
  "language_info": {
   "codemirror_mode": {
    "name": "ipython",
    "version": 3
   },
   "file_extension": ".py",
   "mimetype": "text/x-python",
   "name": "python",
   "nbconvert_exporter": "python",
   "pygments_lexer": "ipython3",
   "version": "3.8.8"
  }
 },
 "nbformat": 4,
 "nbformat_minor": 5
}
